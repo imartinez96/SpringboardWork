{
 "cells": [
  {
   "cell_type": "code",
   "execution_count": 1,
   "metadata": {},
   "outputs": [
    {
     "name": "stdout",
     "output_type": "stream",
     "text": [
      "2.6.0\n",
      "2. Query all tasks\n",
      "(0, 'Tennis Court 1', 5, 25, 10000, 200)\n",
      "(1, 'Tennis Court 2', 5, 25, 8000, 200)\n",
      "(2, 'Badminton Court', 0, 15.5, 4000, 50)\n",
      "(3, 'Table Tennis', 0, 5, 320, 10)\n",
      "(4, 'Massage Room 1', 9.9, 80, 4000, 3000)\n",
      "(5, 'Massage Room 2', 9.9, 80, 4000, 3000)\n",
      "(6, 'Squash Court', 3.5, 17.5, 5000, 80)\n",
      "(7, 'Snooker Table', 0, 5, 450, 15)\n",
      "(8, 'Pool Table', 0, 5, 400, 15)\n"
     ]
    }
   ],
   "source": [
    "import sqlite3\n",
    "from sqlite3 import Error\n",
    "\n",
    " \n",
    "def create_connection(db_file):\n",
    "    \"\"\" create a database connection to the SQLite database\n",
    "        specified by the db_file\n",
    "    :param db_file: database file\n",
    "    :return: Connection object or None\n",
    "    \"\"\"\n",
    "    conn = None\n",
    "    try:\n",
    "        conn = sqlite3.connect(db_file)\n",
    "        print(sqlite3.version)\n",
    "    except Error as e:\n",
    "        print(e)\n",
    " \n",
    "    return conn\n",
    "\n",
    " \n",
    "def select_all_tasks(conn):\n",
    "    \"\"\"\n",
    "    Query all rows in the tasks table\n",
    "    :param conn: the Connection object\n",
    "    :return:\n",
    "    \"\"\"\n",
    "    cur = conn.cursor()\n",
    "    \n",
    "    query1 = \"\"\"\n",
    "        SELECT *\n",
    "        FROM FACILITIES\n",
    "        \"\"\"\n",
    "    cur.execute(query1)\n",
    " \n",
    "    rows = cur.fetchall()\n",
    " \n",
    "    for row in rows:\n",
    "        print(row)\n",
    "\n",
    "\n",
    "def main():\n",
    "    database = \"sqlite_db_pythonsqlite.db\"\n",
    " \n",
    "    # create a database connection\n",
    "    conn = create_connection(database)\n",
    "    with conn: \n",
    "        print(\"2. Query all tasks\")\n",
    "        select_all_tasks(conn)\n",
    " \n",
    " \n",
    "if __name__ == '__main__':\n",
    "    main()"
   ]
  },
  {
   "cell_type": "code",
   "execution_count": 2,
   "metadata": {},
   "outputs": [
    {
     "name": "stdout",
     "output_type": "stream",
     "text": [
      "(0, 'Tennis Court 1', 5, 25, 10000, 200)\n",
      "(1, 'Tennis Court 2', 5, 25, 8000, 200)\n",
      "(2, 'Badminton Court', 0, 15.5, 4000, 50)\n",
      "(3, 'Table Tennis', 0, 5, 320, 10)\n",
      "(4, 'Massage Room 1', 9.9, 80, 4000, 3000)\n",
      "(5, 'Massage Room 2', 9.9, 80, 4000, 3000)\n",
      "(6, 'Squash Court', 3.5, 17.5, 5000, 80)\n",
      "(7, 'Snooker Table', 0, 5, 450, 15)\n",
      "(8, 'Pool Table', 0, 5, 400, 15)\n"
     ]
    }
   ],
   "source": [
    "def run_query(query):\n",
    "    conn = sqlite3.connect(\"sqlite_db_pythonsqlite.db\")\n",
    "    cur = conn.cursor()\n",
    "    cur.execute(query)\n",
    "    rows = cur.fetchall()\n",
    "    for row in rows:\n",
    "        print(row)\n",
    "\n",
    "query = \"\"\"\n",
    "        SELECT *\n",
    "        FROM FACILITIES\n",
    "        \"\"\"\n",
    "run_query(query)"
   ]
  },
  {
   "cell_type": "code",
   "execution_count": 3,
   "metadata": {},
   "outputs": [
    {
     "name": "stdout",
     "output_type": "stream",
     "text": [
      "('Tennis Court 1',)\n",
      "('Tennis Court 2',)\n",
      "('Massage Room 1',)\n",
      "('Massage Room 2',)\n",
      "('Squash Court',)\n"
     ]
    }
   ],
   "source": [
    "query = \"\"\"\n",
    "        SELECT name \n",
    "        FROM Facilities\n",
    "        WHERE membercost > 0;\n",
    "        \"\"\"\n",
    "run_query(query)"
   ]
  },
  {
   "cell_type": "code",
   "execution_count": 4,
   "metadata": {},
   "outputs": [
    {
     "name": "stdout",
     "output_type": "stream",
     "text": [
      "(4,)\n"
     ]
    }
   ],
   "source": [
    "query = \"\"\"\n",
    "        SELECT COUNT(*)\n",
    "        FROM Facilities\n",
    "        WHERE membercost = 0;\n",
    "        \"\"\"\n",
    "\n",
    "run_query(query)"
   ]
  },
  {
   "cell_type": "code",
   "execution_count": 5,
   "metadata": {},
   "outputs": [
    {
     "name": "stdout",
     "output_type": "stream",
     "text": [
      "(0, 'Tennis Court 1', 5, 200)\n",
      "(1, 'Tennis Court 2', 5, 200)\n",
      "(4, 'Massage Room 1', 9.9, 3000)\n",
      "(5, 'Massage Room 2', 9.9, 3000)\n",
      "(6, 'Squash Court', 3.5, 80)\n"
     ]
    }
   ],
   "source": [
    "query = \"\"\"\n",
    "        SELECT facid, name, membercost, monthlymaintenance\n",
    "    FROM Facilities\n",
    "    WHERE membercost < (monthlymaintenance * 0.20) AND membercost > 0;\n",
    "        \"\"\"\n",
    "\n",
    "run_query(query)"
   ]
  },
  {
   "cell_type": "code",
   "execution_count": 6,
   "metadata": {},
   "outputs": [
    {
     "name": "stdout",
     "output_type": "stream",
     "text": [
      "(1, 'Tennis Court 2', 5, 25, 8000, 200)\n",
      "(5, 'Massage Room 2', 9.9, 80, 4000, 3000)\n"
     ]
    }
   ],
   "source": [
    "query = \"\"\"\n",
    "        SELECT *\n",
    "        FROM Facilities\n",
    "        WHERE facid IN (1,5);\n",
    "        \"\"\"\n",
    "\n",
    "run_query(query)"
   ]
  },
  {
   "cell_type": "code",
   "execution_count": 7,
   "metadata": {},
   "outputs": [
    {
     "name": "stdout",
     "output_type": "stream",
     "text": [
      "('Tennis Court 1', 200, 'Expensive')\n",
      "('Tennis Court 2', 200, 'Expensive')\n",
      "('Badminton Court', 50, 'Cheap')\n",
      "('Table Tennis', 10, 'Cheap')\n",
      "('Massage Room 1', 3000, 'Expensive')\n",
      "('Massage Room 2', 3000, 'Expensive')\n",
      "('Squash Court', 80, 'Cheap')\n",
      "('Snooker Table', 15, 'Cheap')\n",
      "('Pool Table', 15, 'Cheap')\n"
     ]
    }
   ],
   "source": [
    "query = \"\"\"\n",
    "        SELECT name, monthlymaintenance,\n",
    "    CASE\n",
    "        WHEN monthlymaintenance > 100 THEN 'Expensive'\n",
    "        WHEN monthlymaintenance <= 100 THEN 'Cheap'\n",
    "    END AS tier\n",
    "    FROM Facilities;\n",
    "        \"\"\"\n",
    "\n",
    "run_query(query)"
   ]
  },
  {
   "cell_type": "code",
   "execution_count": 8,
   "metadata": {},
   "outputs": [
    {
     "name": "stdout",
     "output_type": "stream",
     "text": [
      "('Darren', 'Smith')\n"
     ]
    }
   ],
   "source": [
    "query = \"\"\"\n",
    "       SELECT firstname, surname\n",
    "    FROM Members,\n",
    "        (SELECT MAX(joindate) AS maxdate\n",
    "        FROM Members) as sub\n",
    "    WHERE joindate = sub.maxdate;\n",
    "        \"\"\"\n",
    "\n",
    "run_query(query)"
   ]
  },
  {
   "cell_type": "code",
   "execution_count": 11,
   "metadata": {},
   "outputs": [
    {
     "name": "stdout",
     "output_type": "stream",
     "text": [
      "(12, 'Tennis Court 1', 'Anne Baker')\n",
      "(12, 'Tennis Court 2', 'Anne Baker')\n",
      "(6, 'Tennis Court 2', 'Burton Tracy')\n",
      "(6, 'Tennis Court 1', 'Burton Tracy')\n",
      "(10, 'Tennis Court 1', 'Charles Owen')\n",
      "(10, 'Tennis Court 2', 'Charles Owen')\n",
      "(1, 'Tennis Court 2', 'Darren Smith')\n",
      "(28, 'Tennis Court 1', 'David Farrell')\n",
      "(28, 'Tennis Court 2', 'David Farrell')\n",
      "(11, 'Tennis Court 2', 'David Jones')\n",
      "(11, 'Tennis Court 1', 'David Jones')\n",
      "(17, 'Tennis Court 1', 'David Pinker')\n",
      "(26, 'Tennis Court 1', 'Douglas Jones')\n",
      "(36, 'Tennis Court 1', 'Erica Crumpet')\n",
      "(15, 'Tennis Court 2', 'Florence Bader')\n",
      "(15, 'Tennis Court 1', 'Florence Bader')\n",
      "(5, 'Tennis Court 1', 'Gerald Butters')\n",
      "(5, 'Tennis Court 2', 'Gerald Butters')\n",
      "(27, 'Tennis Court 2', 'Henrietta Rumney')\n",
      "(14, 'Tennis Court 1', 'Jack Smith')\n",
      "(14, 'Tennis Court 2', 'Jack Smith')\n",
      "(4, 'Tennis Court 1', 'Janice Joplette')\n",
      "(4, 'Tennis Court 2', 'Janice Joplette')\n",
      "(13, 'Tennis Court 2', 'Jemima Farrell')\n",
      "(13, 'Tennis Court 1', 'Jemima Farrell')\n",
      "(22, 'Tennis Court 1', 'Joan Coplin')\n",
      "(35, 'Tennis Court 1', 'John Hunt')\n",
      "(35, 'Tennis Court 2', 'John Hunt')\n",
      "(20, 'Tennis Court 1', 'Matthew Genting')\n",
      "(30, 'Tennis Court 2', 'Millicent Purview')\n",
      "(7, 'Tennis Court 2', 'Nancy Dare')\n",
      "(7, 'Tennis Court 1', 'Nancy Dare')\n",
      "(9, 'Tennis Court 2', 'Ponder Stibbons')\n",
      "(9, 'Tennis Court 1', 'Ponder Stibbons')\n",
      "(24, 'Tennis Court 2', 'Ramnaresh Sarwin')\n",
      "(24, 'Tennis Court 1', 'Ramnaresh Sarwin')\n",
      "(8, 'Tennis Court 2', 'Tim Boothe')\n",
      "(8, 'Tennis Court 1', 'Tim Boothe')\n",
      "(3, 'Tennis Court 2', 'Tim Rownam')\n",
      "(3, 'Tennis Court 1', 'Tim Rownam')\n",
      "(16, 'Tennis Court 2', 'Timothy Baker')\n",
      "(16, 'Tennis Court 1', 'Timothy Baker')\n",
      "(2, 'Tennis Court 1', 'Tracy Smith')\n",
      "(2, 'Tennis Court 2', 'Tracy Smith')\n"
     ]
    }
   ],
   "source": [
    "query = \"\"\"\n",
    "    SELECT DISTINCT(memid), name, (firstname || ' ' || surname) AS member\n",
    "        FROM Bookings\n",
    "        LEFT JOIN Facilities\n",
    "        USING (facid)\n",
    "        LEFT JOIN Members\n",
    "        USING (memid)\n",
    "        WHERE facid IN (0,1)\n",
    "            AND surname <> \"GUEST\"\n",
    "        ORDER BY member;\n",
    "        \"\"\"\n",
    "\n",
    "run_query(query)"
   ]
  },
  {
   "cell_type": "code",
   "execution_count": 13,
   "metadata": {},
   "outputs": [
    {
     "name": "stdout",
     "output_type": "stream",
     "text": [
      "('Massage Room 2', 'GUEST GUEST', 320)\n",
      "('Massage Room 1', 'GUEST GUEST', 160)\n",
      "('Massage Room 1', 'GUEST GUEST', 160)\n",
      "('Massage Room 1', 'GUEST GUEST', 160)\n"
     ]
    }
   ],
   "source": [
    "query = \"\"\"\n",
    "        SELECT  name, \n",
    "                (firstname || ' ' || surname) AS member,\n",
    "                (CASE WHEN memid = 0 THEN (slots * guestcost)\n",
    "                    ELSE (slots * membercost) END) AS cost\n",
    "        FROM Bookings\n",
    "        LEFT JOIN Facilities\n",
    "        USING(facid)\n",
    "        LEFT JOIN Members\n",
    "        USING(memid)\n",
    "        WHERE starttime LIKE '2012-09-14%'\n",
    "            AND (CASE WHEN memid = 0 THEN guestcost\n",
    "                    ELSE membercost END) > 30\n",
    "        ORDER BY cost DESC;\n",
    "        \"\"\"\n",
    "\n",
    "run_query(query)"
   ]
  },
  {
   "cell_type": "code",
   "execution_count": 14,
   "metadata": {},
   "outputs": [
    {
     "name": "stdout",
     "output_type": "stream",
     "text": [
      "('Massage Room 1', 'GUEST GUEST', 80)\n",
      "('Massage Room 1', 'GUEST GUEST', 80)\n",
      "('Massage Room 1', 'GUEST GUEST', 80)\n",
      "('Massage Room 2', 'GUEST GUEST', 80)\n"
     ]
    }
   ],
   "source": [
    "query = \"\"\"\n",
    "        SELECT name, member, cost\n",
    "        FROM (SELECT name,\n",
    "                     (firstname || ' ' || surname) AS member,\n",
    "                     (CASE WHEN memid = 0 THEN guestcost\n",
    "                        ELSE membercost END) AS cost\n",
    "                FROM Bookings\n",
    "                LEFT JOIN Facilities\n",
    "                USING (facid)\n",
    "                LEFT JOIN Members\n",
    "                USING (memid)\n",
    "                WHERE starttime LIKE '2012-09-14%') AS sub\n",
    "        WHERE cost > 30 \n",
    "        ORDER BY cost DESC;\n",
    "        \"\"\"\n",
    "\n",
    "run_query(query)"
   ]
  },
  {
   "cell_type": "code",
   "execution_count": 15,
   "metadata": {},
   "outputs": [
    {
     "name": "stdout",
     "output_type": "stream",
     "text": [
      "('Table Tennis', 180)\n",
      "('Snooker Table', 240)\n",
      "('Pool Table', 270)\n"
     ]
    }
   ],
   "source": [
    "query = \"\"\"\n",
    "    SELECT sub.facility_name, sub.revenue\n",
    "    FROM\n",
    "    (SELECT f.name AS facility_name, \n",
    "            SUM(CASE \n",
    "                WHEN b.memid <> 0 THEN (f.membercost * b.slots)\n",
    "                WHEN b.memid = 0 THEN (f.guestcost * b.slots)\n",
    "                END) AS revenue\n",
    "\n",
    "        FROM Bookings AS b\n",
    "        LEFT JOIN Facilities AS f\n",
    "        ON b.facid = f.facid\n",
    "        GROUP BY f.name) AS sub\n",
    "    WHERE sub.revenue < 1000\n",
    "    ORDER BY sub.revenue\n",
    "        \"\"\"\n",
    "\n",
    "run_query(query)"
   ]
  },
  {
   "cell_type": "code",
   "execution_count": 16,
   "metadata": {},
   "outputs": [
    {
     "name": "stdout",
     "output_type": "stream",
     "text": [
      "('Bader', 'Florence', 'Stibbons', 'Ponder')\n",
      "('Baker', 'Anne', 'Stibbons', 'Ponder')\n",
      "('Baker', 'Timothy', 'Farrell', 'Jemima')\n",
      "('Boothe', 'Tim', 'Rownam', 'Tim')\n",
      "('Butters', 'Gerald', 'Smith', 'Darren')\n",
      "('Coplin', 'Joan', 'Baker', 'Timothy')\n",
      "('Crumpet', 'Erica', 'Smith', 'Tracy')\n",
      "('Dare', 'Nancy', 'Joplette', 'Janice')\n",
      "('Genting', 'Matthew', 'Butters', 'Gerald')\n",
      "('Hunt', 'John', 'Purview', 'Millicent')\n",
      "('Jones', 'David', 'Joplette', 'Janice')\n",
      "('Jones', 'Douglas', 'Jones', 'David')\n",
      "('Joplette', 'Janice', 'Smith', 'Darren')\n",
      "('Mackenzie', 'Anna', 'Smith', 'Darren')\n",
      "('Owen', 'Charles', 'Smith', 'Darren')\n",
      "('Pinker', 'David', 'Farrell', 'Jemima')\n",
      "('Purview', 'Millicent', 'Smith', 'Tracy')\n",
      "('Rumney', 'Henrietta', 'Genting', 'Matthew')\n",
      "('Sarwin', 'Ramnaresh', 'Bader', 'Florence')\n",
      "('Smith', 'Jack', 'Smith', 'Darren')\n",
      "('Stibbons', 'Ponder', 'Tracy', 'Burton')\n",
      "('Worthington-Smyth', 'Henry', 'Smith', 'Tracy')\n"
     ]
    }
   ],
   "source": [
    "query = \"\"\"\n",
    "    SELECT m2.surname AS mem_last_name, m2.firstname AS mem_first_name, \n",
    "        m1.surname AS rec_by_last_name, m1.firstname AS rec_by_first_name\n",
    "    FROM Members AS m1\n",
    "    INNER JOIN Members as m2\n",
    "    WHERE m2.recommendedby = m1.memid AND\n",
    "    m1.surname <> 'GUEST'\n",
    "    ORDER BY m2.surname, m2.firstname\n",
    "        \"\"\"\n",
    "\n",
    "run_query(query)"
   ]
  },
  {
   "cell_type": "code",
   "execution_count": 17,
   "metadata": {},
   "outputs": [
    {
     "name": "stdout",
     "output_type": "stream",
     "text": [
      "('Tennis Court 1', 957)\n",
      "('Tennis Court 2', 882)\n",
      "('Badminton Court', 1086)\n",
      "('Table Tennis', 794)\n",
      "('Massage Room 1', 884)\n",
      "('Massage Room 2', 54)\n",
      "('Squash Court', 418)\n",
      "('Snooker Table', 860)\n",
      "('Pool Table', 856)\n"
     ]
    }
   ],
   "source": [
    "query = \"\"\"\n",
    "        SELECT name, SUM(slots)\n",
    "        FROM Bookings\n",
    "        LEFT JOIN Facilities\n",
    "        USING (facid)\n",
    "        WHERE memid > 0\n",
    "        GROUP BY facid\n",
    "        \"\"\"\n",
    "\n",
    "run_query(query)"
   ]
  },
  {
   "cell_type": "code",
   "execution_count": 18,
   "metadata": {},
   "outputs": [
    {
     "name": "stdout",
     "output_type": "stream",
     "text": [
      "('Badminton Court', 165, '07')\n",
      "('Massage Room 1', 166, '07')\n",
      "('Massage Room 2', 8, '07')\n",
      "('Pool Table', 110, '07')\n",
      "('Snooker Table', 140, '07')\n",
      "('Squash Court', 50, '07')\n",
      "('Table Tennis', 98, '07')\n",
      "('Tennis Court 1', 201, '07')\n",
      "('Tennis Court 2', 123, '07')\n",
      "('Badminton Court', 414, '08')\n",
      "('Massage Room 1', 316, '08')\n",
      "('Massage Room 2', 18, '08')\n",
      "('Pool Table', 303, '08')\n",
      "('Snooker Table', 316, '08')\n",
      "('Squash Court', 184, '08')\n",
      "('Table Tennis', 296, '08')\n",
      "('Tennis Court 1', 339, '08')\n",
      "('Tennis Court 2', 345, '08')\n",
      "('Badminton Court', 507, '09')\n",
      "('Massage Room 1', 402, '09')\n",
      "('Massage Room 2', 28, '09')\n",
      "('Pool Table', 443, '09')\n",
      "('Snooker Table', 404, '09')\n",
      "('Squash Court', 184, '09')\n",
      "('Table Tennis', 400, '09')\n",
      "('Tennis Court 1', 417, '09')\n",
      "('Tennis Court 2', 414, '09')\n"
     ]
    }
   ],
   "source": [
    "query = \"\"\"\n",
    "        SELECT name, SUM(slots) AS uses, strftime('%m', starttime) AS month\n",
    "        FROM Bookings\n",
    "        LEFT JOIN Facilities\n",
    "        USING (facid)\n",
    "        WHERE memid > 0\n",
    "        GROUP BY month, facid\n",
    "        ORDER BY month, name\n",
    "        \"\"\"\n",
    "\n",
    "run_query(query)"
   ]
  },
  {
   "cell_type": "code",
   "execution_count": null,
   "metadata": {},
   "outputs": [],
   "source": []
  }
 ],
 "metadata": {
  "kernelspec": {
   "display_name": "Python 3",
   "language": "python",
   "name": "python3"
  },
  "language_info": {
   "codemirror_mode": {
    "name": "ipython",
    "version": 3
   },
   "file_extension": ".py",
   "mimetype": "text/x-python",
   "name": "python",
   "nbconvert_exporter": "python",
   "pygments_lexer": "ipython3",
   "version": "3.7.6"
  }
 },
 "nbformat": 4,
 "nbformat_minor": 4
}
